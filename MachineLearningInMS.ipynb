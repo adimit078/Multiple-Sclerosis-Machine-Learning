{
 "cells": [
  {
   "cell_type": "markdown",
   "id": "34a4237e",
   "metadata": {},
   "source": [
    "# Multiple Sclerosis Logistic Regression Model\n",
    "Use logistic regression analysis to generate a predictive model used to classify a genetic dataset as healthy or diseased based on expression values."
   ]
  },
  {
   "cell_type": "code",
   "execution_count": 67,
   "id": "957b4a57",
   "metadata": {},
   "outputs": [],
   "source": [
    "#import basic libraries\n",
    "import pandas as pd\n",
    "import numpy as np"
   ]
  },
  {
   "cell_type": "code",
   "execution_count": 68,
   "id": "045d424b",
   "metadata": {},
   "outputs": [],
   "source": [
    "#import plotting libraries\n",
    "import matplotlib.pyplot as plt\n",
    "import seaborn as sns\n",
    "%matplotlib inline"
   ]
  },
  {
   "cell_type": "code",
   "execution_count": 69,
   "id": "a79806fb",
   "metadata": {},
   "outputs": [],
   "source": [
    "#Data Gathered from GEO\n",
    "data = pd.read_csv(\"msData.csv\")"
   ]
  },
  {
   "cell_type": "code",
   "execution_count": 70,
   "id": "1117d457",
   "metadata": {},
   "outputs": [],
   "source": [
    "#Isolating data - Seperating Label\n",
    "X = data.drop(\"Outcome\", axis = 1)\n",
    "y = data[\"Outcome\"]"
   ]
  },
  {
   "cell_type": "code",
   "execution_count": 71,
   "id": "db1b7566",
   "metadata": {},
   "outputs": [],
   "source": [
    "#import random split\n",
    "from sklearn.model_selection import train_test_split"
   ]
  },
  {
   "cell_type": "code",
   "execution_count": 72,
   "id": "8eea8ecc",
   "metadata": {},
   "outputs": [],
   "source": [
    "#split data\n",
    "X_train, X_test, y_train, y_test = train_test_split(X,y, test_size = 0.3, random_state=101)"
   ]
  },
  {
   "cell_type": "code",
   "execution_count": 73,
   "id": "863b1635",
   "metadata": {},
   "outputs": [],
   "source": [
    "#import model\n",
    "from sklearn.linear_model import LogisticRegression\n",
    "logmodel = LogisticRegression()"
   ]
  },
  {
   "cell_type": "code",
   "execution_count": 74,
   "id": "ff17e10c",
   "metadata": {
    "scrolled": false
   },
   "outputs": [
    {
     "data": {
      "text/plain": [
       "LogisticRegression()"
      ]
     },
     "execution_count": 74,
     "metadata": {},
     "output_type": "execute_result"
    }
   ],
   "source": [
    "#fit data into model\n",
    "logmodel.fit(X_train, y_train)"
   ]
  },
  {
   "cell_type": "code",
   "execution_count": 75,
   "id": "3caa23cc",
   "metadata": {},
   "outputs": [
    {
     "data": {
      "text/plain": [
       "array([1, 1, 1, 1, 0, 1, 0, 0, 0])"
      ]
     },
     "execution_count": 75,
     "metadata": {},
     "output_type": "execute_result"
    }
   ],
   "source": [
    "#get predictions\n",
    "predictions = logmodel.predict(X_test)\n",
    "predictions"
   ]
  },
  {
   "cell_type": "code",
   "execution_count": 76,
   "id": "9a3b2732",
   "metadata": {},
   "outputs": [
    {
     "name": "stdout",
     "output_type": "stream",
     "text": [
      "Model Statistics\n",
      "              precision    recall  f1-score   support\n",
      "\n",
      "           0       1.00      1.00      1.00         4\n",
      "           1       1.00      1.00      1.00         5\n",
      "\n",
      "    accuracy                           1.00         9\n",
      "   macro avg       1.00      1.00      1.00         9\n",
      "weighted avg       1.00      1.00      1.00         9\n",
      "\n",
      "Confusion Matrix\n",
      "[[4 0]\n",
      " [0 5]]\n"
     ]
    }
   ],
   "source": [
    "#Get classification Reports\n",
    "from sklearn.metrics import classification_report, confusion_matrix\n",
    "print(\"Model Statistics\")\n",
    "print(classification_report(y_test,predictions))\n",
    "print(\"Confusion Matrix\")\n",
    "print(confusion_matrix(y_test,predictions))"
   ]
  },
  {
   "cell_type": "markdown",
   "id": "62bd477a",
   "metadata": {},
   "source": [
    "# Conclusion\n",
    "The model was incredibly accurate, and methodology seen serves as an effective method for generative predictive models from gene expression data. However, current data amounts do not allow for an effective representation of Multiple Sclerosis. In paticular, more data is needed to produce a model capable of predicting in a real scale environment."
   ]
  }
 ],
 "metadata": {
  "kernelspec": {
   "display_name": "Python 3 (ipykernel)",
   "language": "python",
   "name": "python3"
  },
  "language_info": {
   "codemirror_mode": {
    "name": "ipython",
    "version": 3
   },
   "file_extension": ".py",
   "mimetype": "text/x-python",
   "name": "python",
   "nbconvert_exporter": "python",
   "pygments_lexer": "ipython3",
   "version": "3.9.7"
  }
 },
 "nbformat": 4,
 "nbformat_minor": 5
}
